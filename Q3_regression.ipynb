{
 "cells": [
  {
   "cell_type": "code",
   "execution_count": 1,
   "metadata": {},
   "outputs": [],
   "source": [
    "import numpy as np\n",
    "import pandas as pd\n",
    "from sklearn.model_selection import train_test_split, KFold\n",
    "from sklearn.preprocessing import OneHotEncoder\n",
    "from sklearn.compose import ColumnTransformer\n",
    "from sklearn.pipeline import Pipeline\n",
    "from sklearn.linear_model import RidgeCV\n",
    "from sklearn.metrics import mean_squared_error, mean_absolute_error, r2_score\n",
    "\n",
    "# 1. Read the data\n",
    "df = pd.read_csv(\"cleaned_hospital.csv\")"
   ]
  },
  {
   "cell_type": "code",
   "execution_count": 2,
   "metadata": {},
   "outputs": [],
   "source": [
    "# 2. Features / target\n",
    "feature_cols = ['Facility Id',\n",
    "                'APR DRG Code',\n",
    "                'APR Severity of Illness Code',\n",
    "                'Year',\n",
    "                'APR Medical Surgical Code']\n",
    "X = df[feature_cols]\n",
    "y = df['Mean Cost']\n",
    "\n",
    "ohe = OneHotEncoder(handle_unknown=\"ignore\")\n",
    "preprocess = ColumnTransformer(\n",
    "    transformers=[(\"cat\", ohe, feature_cols)],\n",
    "    remainder=\"drop\"\n",
    ")\n",
    "\n",
    "alphas = np.logspace(-3, 3, 13)\n",
    "ridge = RidgeCV(alphas=alphas,\n",
    "                cv=KFold(n_splits=5, shuffle=True, random_state=42),\n",
    "                scoring=\"neg_mean_squared_error\")\n"
   ]
  },
  {
   "cell_type": "code",
   "execution_count": 3,
   "metadata": {},
   "outputs": [
    {
     "name": "stdout",
     "output_type": "stream",
     "text": [
      "Best α from CV : 3.162\n",
      "Test RMSE      : 26,482.43\n",
      "Test MAE       : 10,104.34\n",
      "Test R²        : 0.4048\n"
     ]
    }
   ],
   "source": [
    "# 6. Complete pipeline\n",
    "model = Pipeline(steps=[\n",
    "    (\"prep\", preprocess),\n",
    "    (\"ridge\", ridge)\n",
    "])\n",
    "\n",
    "X_train, X_test, y_train, y_test = train_test_split(\n",
    "    X, y, test_size=0.10, random_state=42, stratify=None\n",
    ")\n",
    "\n",
    "model.fit(X_train, y_train)\n",
    "y_pred = model.predict(X_test)\n",
    "mse = mean_squared_error(y_test, y_pred)\n",
    "rmse = np.sqrt(mse)\n",
    "mae = mean_absolute_error(y_test, y_pred)\n",
    "r2 = r2_score(y_test, y_pred)\n",
    "best_alpha = model.named_steps[\"ridge\"].alpha_\n",
    "\n",
    "print(f\"Best α from CV : {best_alpha:.4g}\")\n",
    "print(f\"Test RMSE      : {rmse:,.2f}\")\n",
    "print(f\"Test MAE       : {mae:,.2f}\")\n",
    "print(f\"Test R²        : {r2:.4f}\")"
   ]
  }
 ],
 "metadata": {
  "kernelspec": {
   "display_name": "base",
   "language": "python",
   "name": "python3"
  },
  "language_info": {
   "codemirror_mode": {
    "name": "ipython",
    "version": 3
   },
   "file_extension": ".py",
   "mimetype": "text/x-python",
   "name": "python",
   "nbconvert_exporter": "python",
   "pygments_lexer": "ipython3",
   "version": "3.9.20"
  }
 },
 "nbformat": 4,
 "nbformat_minor": 2
}
