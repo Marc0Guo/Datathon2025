{
 "cells": [
  {
   "cell_type": "code",
   "execution_count": 6,
   "id": "d68f8c0c",
   "metadata": {},
   "outputs": [],
   "source": [
    "import pandas as pd\n",
    "import numpy as np\n",
    "import matplotlib.pyplot as plt\n",
    "from sklearn.tree import DecisionTreeRegressor\n",
    "from sklearn.model_selection import KFold\n",
    "from sklearn.metrics import mean_squared_error, mean_absolute_error, r2_score\n",
    "from tqdm import tqdm "
   ]
  },
  {
   "cell_type": "code",
   "execution_count": 7,
   "id": "bcf4a99b",
   "metadata": {},
   "outputs": [],
   "source": [
    "df = pd.read_csv('eda_hospital.csv')"
   ]
  },
  {
   "cell_type": "markdown",
   "id": "78fea5cc",
   "metadata": {},
   "source": [
    "## Next Step: Decision Tree Regressor\n",
    "\n",
    "A Decision Tree Regressor is a natural next step because:\n",
    "- **Non-linear modeling:** It can automatically capture complex, non-linear patterns without feature engineering.\n",
    "- **Flexibility:** It partitions the feature space into regions, adapting to different hospital, DRG, and severity subgroups.\n",
    "- **Interpretability:** Trees provide clear rules for how features impact cost.\n",
    "- **Ease of use:** No need for feature scaling or normalization.\n",
    "\n",
    "Thus, moving to a decision tree model can better capture the segmented and non-linear structure of the data, particularly improving predictions for high-cost cases where the linear model underperformed."
   ]
  },
  {
   "cell_type": "code",
   "execution_count": null,
   "id": "a9893670",
   "metadata": {},
   "outputs": [
    {
     "name": "stdout",
     "output_type": "stream",
     "text": [
      "5-Fold Cross Validation...\n",
      "========================================\n"
     ]
    },
    {
     "name": "stderr",
     "output_type": "stream",
     "text": [
      " 20%|██        | 1/5 [00:05<00:20,  5.10s/it]"
     ]
    },
    {
     "name": "stdout",
     "output_type": "stream",
     "text": [
      "\n",
      "Fold 1 Results:\n",
      "========================================\n",
      "  RMSE: 14860.54\n",
      "  MAE: 7077.08\n",
      "  R²: 0.7402\n",
      "========================================\n"
     ]
    },
    {
     "name": "stderr",
     "output_type": "stream",
     "text": [
      " 40%|████      | 2/5 [00:10<00:15,  5.01s/it]"
     ]
    },
    {
     "name": "stdout",
     "output_type": "stream",
     "text": [
      "\n",
      "Fold 2 Results:\n",
      "========================================\n",
      "  RMSE: 14829.88\n",
      "  MAE: 7069.11\n",
      "  R²: 0.7422\n",
      "========================================\n"
     ]
    },
    {
     "name": "stderr",
     "output_type": "stream",
     "text": [
      " 60%|██████    | 3/5 [00:15<00:10,  5.17s/it]"
     ]
    },
    {
     "name": "stdout",
     "output_type": "stream",
     "text": [
      "\n",
      "Fold 3 Results:\n",
      "========================================\n",
      "  RMSE: 14803.19\n",
      "  MAE: 7061.11\n",
      "  R²: 0.7413\n",
      "========================================\n"
     ]
    },
    {
     "name": "stderr",
     "output_type": "stream",
     "text": [
      " 80%|████████  | 4/5 [00:20<00:05,  5.11s/it]"
     ]
    },
    {
     "name": "stdout",
     "output_type": "stream",
     "text": [
      "\n",
      "Fold 4 Results:\n",
      "========================================\n",
      "  RMSE: 14702.77\n",
      "  MAE: 7052.82\n",
      "  R²: 0.7417\n",
      "========================================\n"
     ]
    },
    {
     "name": "stderr",
     "output_type": "stream",
     "text": [
      "100%|██████████| 5/5 [00:25<00:00,  5.10s/it]"
     ]
    },
    {
     "name": "stdout",
     "output_type": "stream",
     "text": [
      "\n",
      "Fold 5 Results:\n",
      "========================================\n",
      "  RMSE: 14779.74\n",
      "  MAE: 7039.11\n",
      "  R²: 0.7419\n",
      "========================================\n"
     ]
    },
    {
     "name": "stderr",
     "output_type": "stream",
     "text": [
      "\n"
     ]
    }
   ],
   "source": [
    "# Prepare feature set\n",
    "features = [\n",
    "    'Yes Surgical',\n",
    "    'APR DRG Code Encoded',\n",
    "    'Facility Id Encoded',\n",
    "    'Severity_x_Facility',\n",
    "    'Severity_x_DRG',\n",
    "    'Facility_x_DRG',\n",
    "    'Discharges',\n",
    "    'APR Severity of Illness Code'\n",
    "]\n",
    "\n",
    "X = df[features].copy()\n",
    "y_train_full = df['Mean Cost W']    # 训练用Mean Cost W\n",
    "y_val_full = df['Mean Cost'] \n",
    "\n",
    "# Convert categorical variables if necessary\n",
    "X['Yes Surgical'] = X['Yes Surgical'].astype(float)\n",
    "X['APR Severity of Illness Code'] = X['APR Severity of Illness Code'].astype(float)\n",
    "\n",
    "# Initialize Decision Tree model\n",
    "dt_model = DecisionTreeRegressor(\n",
    "    max_depth=12,\n",
    "    min_samples_leaf=500,\n",
    "    random_state=42\n",
    ")\n",
    "\n",
    "# 5-Fold Cross-Validation\n",
    "kf = KFold(n_splits=5, shuffle=True, random_state=42)\n",
    "\n",
    "# Lists to store overall metrics\n",
    "rmse_list, mae_list, r2_list = [], [], []\n",
    "\n",
    "print(\"5-Fold Cross Validation...\")\n",
    "print(\"=\" * 40)\n",
    "\n",
    "# Cross-validation loop\n",
    "for fold, (train_idx, val_idx) in enumerate(tqdm(kf.split(X), total=5), 1):\n",
    "    X_train, X_val = X.iloc[train_idx], X.iloc[val_idx]\n",
    "\n",
    "    y_train = y_train_full.iloc[train_idx] \n",
    "    y_val = y_val_full.iloc[val_idx]   \n",
    "\n",
    "    # Fit model\n",
    "    dt_model.fit(X_train, y_train)\n",
    "\n",
    "    # Predict\n",
    "    y_val_pred = dt_model.predict(X_val)\n",
    "\n",
    "    # Metrics on original scale\n",
    "    mse = mean_squared_error(y_val, y_val_pred)\n",
    "    rmse = np.sqrt(mse)\n",
    "    mae = mean_absolute_error(y_val, y_val_pred)\n",
    "    r2 = r2_score(y_val, y_val_pred)\n",
    "\n",
    "    # Save metrics\n",
    "    rmse_list.append(rmse)\n",
    "    mae_list.append(mae)\n",
    "    r2_list.append(r2)\n",
    "\n",
    "    # Print current fold results\n",
    "    print(f\"\\nFold {fold} Results:\")\n",
    "    print(\"=\" * 40)\n",
    "    print(f\"  RMSE: {rmse:.2f}\")\n",
    "    print(f\"  MAE: {mae:.2f}\")\n",
    "    print(f\"  R²: {r2:.4f}\")\n",
    "    print(\"=\" * 40)"
   ]
  },
  {
   "cell_type": "markdown",
   "id": "29408559",
   "metadata": {},
   "source": [
    "## Decision Tree Performance Summary"
   ]
  },
  {
   "cell_type": "code",
   "execution_count": 9,
   "id": "d108e382",
   "metadata": {},
   "outputs": [
    {
     "name": "stdout",
     "output_type": "stream",
     "text": [
      "\n",
      "Overall Cross-Validation Summary:\n",
      "========================================\n",
      "Mean RMSE: 14795.22 ± 53.51\n",
      "Mean MAE: 7059.84 ± 13.14\n",
      "Mean R²: 0.7414 ± 0.0007\n"
     ]
    }
   ],
   "source": [
    "print(\"\\nOverall Cross-Validation Summary:\")\n",
    "print(\"=\" * 40)\n",
    "print(f\"Mean RMSE: {np.mean(rmse_list):.2f} ± {np.std(rmse_list):.2f}\")\n",
    "print(f\"Mean MAE: {np.mean(mae_list):.2f} ± {np.std(mae_list):.2f}\")\n",
    "print(f\"Mean R²: {np.mean(r2_list):.4f} ± {np.std(r2_list):.4f}\")"
   ]
  },
  {
   "cell_type": "markdown",
   "id": "7bd6f6bc",
   "metadata": {},
   "source": [
    "## Performance Evaluation"
   ]
  },
  {
   "cell_type": "markdown",
   "id": "5d10b066",
   "metadata": {},
   "source": [
    "Across 5-fold cross-validation, the Decision Tree Regressor achieved:\n",
    "\n",
    "- Mean R² ≈ 0.741\n",
    "- Average RMSE ≈ $14,795\n",
    "- Average MAE ≈ $7,060\n",
    "\n",
    "Compared to the **linear regression**, the Decision Tree demonstrated stronger performance in terms of both **error reduction** and **explaination of variation**.\n",
    "\n",
    "This suggests that the Decision Tree was able to capture some of the **non-linear** relationships.\n",
    "\n",
    "It also shows that our feature engineering works successfully interms of **accuracy** and **training time**."
   ]
  },
  {
   "cell_type": "markdown",
   "id": "cc4c4ebe",
   "metadata": {},
   "source": [
    "## Feature Importance Graph Analysis"
   ]
  },
  {
   "cell_type": "code",
   "execution_count": 10,
   "id": "de83bb39",
   "metadata": {},
   "outputs": [
    {
     "data": {
      "image/png": "[encoded data removed]",
      "text/plain": [
       "<Figure size 1000x800 with 1 Axes>"
      ]
     },
     "metadata": {},
     "output_type": "display_data"
    }
   ],
   "source": [
    "# Feature Importance Visualization\n",
    "feature_importances = dt_model.feature_importances_\n",
    "importance_df = pd.DataFrame({\n",
    "    'Feature': X.columns,\n",
    "    'Importance': feature_importances\n",
    "}).sort_values(by='Importance', ascending=False)\n",
    "\n",
    "# Plot top 20 features\n",
    "top_n = 20\n",
    "plt.figure(figsize=(10, 8))\n",
    "plt.barh(importance_df['Feature'].iloc[:top_n][::-1], importance_df['Importance'].iloc[:top_n][::-1])\n",
    "plt.xlabel('Importance Score')\n",
    "plt.title(f'Top {top_n} Important Features (Decision Tree)')\n",
    "plt.grid(True)\n",
    "plt.tight_layout()\n",
    "plt.show()"
   ]
  },
  {
   "cell_type": "markdown",
   "id": "7954795f",
   "metadata": {},
   "source": [
    "From the feature importance plot, we observe that the model **heavily relies** on a few features, especially **Severity_x_DRG** and **Facility Id Encoded**.\n",
    "\n",
    "This suggests that the model may be **overfitting to specific feature interactions** and failing to utilize the full information available in the dataset.\n",
    "\n",
    "As a next step, we plan to explore **ensemble model**： such as Random Forests + XGBoost to **address the limitations** observed in the single Decision Tree model."
   ]
  },
  {
   "cell_type": "markdown",
   "id": "c7390bee",
   "metadata": {},
   "source": [
    "## Next Step: Ensemble"
   ]
  }
 ],
 "metadata": {
  "kernelspec": {
   "display_name": "datathon",
   "language": "python",
   "name": "python3"
  },
  "language_info": {
   "codemirror_mode": {
    "name": "ipython",
    "version": 3
   },
   "file_extension": ".py",
   "mimetype": "text/x-python",
   "name": "python",
   "nbconvert_exporter": "python",
   "pygments_lexer": "ipython3",
   "version": "3.10.16"
  }
 },
 "nbformat": 4,
 "nbformat_minor": 5
}
