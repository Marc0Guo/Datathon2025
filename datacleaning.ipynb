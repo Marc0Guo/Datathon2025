{
 "cells": [
  {
   "cell_type": "code",
   "execution_count": 1,
   "id": "9df81223",
   "metadata": {},
   "outputs": [],
   "source": [
    "import pandas as pd\n",
    "import matplotlib.pyplot as plt\n",
    "import seaborn as sns\n",
    "import numpy as np"
   ]
  },
  {
   "cell_type": "markdown",
   "id": "5462aa3e",
   "metadata": {},
   "source": [
    "## Loading Data, Basic Check"
   ]
  },
  {
   "cell_type": "markdown",
   "id": "7002ad6e",
   "metadata": {},
   "source": [
    "### Load Data"
   ]
  },
  {
   "cell_type": "code",
   "execution_count": 17,
   "id": "1652782c",
   "metadata": {},
   "outputs": [],
   "source": [
    "df = pd.read_csv('Hospital_Inpatient_Discharges__SPARCS_De-Identified___Cost_Transparency__Beginning_2009_20250426.csv')"
   ]
  },
  {
   "cell_type": "markdown",
   "id": "876f7d12",
   "metadata": {},
   "source": [
    "### Basic Check"
   ]
  },
  {
   "cell_type": "code",
   "execution_count": 18,
   "id": "0685ee7e",
   "metadata": {},
   "outputs": [
    {
     "data": {
      "application/vnd.microsoft.datawrangler.viewer.v0+json": {
       "columns": [
        {
         "name": "index",
         "rawType": "int64",
         "type": "integer"
        },
        {
         "name": "Year",
         "rawType": "int64",
         "type": "integer"
        },
        {
         "name": "Facility Id",
         "rawType": "int64",
         "type": "integer"
        },
        {
         "name": "Facility Name",
         "rawType": "object",
         "type": "string"
        },
        {
         "name": "APR DRG Code",
         "rawType": "int64",
         "type": "integer"
        },
        {
         "name": "APR Severity of Illness Code",
         "rawType": "int64",
         "type": "integer"
        },
        {
         "name": "APR DRG Description",
         "rawType": "object",
         "type": "string"
        },
        {
         "name": "APR Severity of Illness Description",
         "rawType": "object",
         "type": "string"
        },
        {
         "name": "APR Medical Surgical Code",
         "rawType": "object",
         "type": "string"
        },
        {
         "name": "APR Medical Surgical Description",
         "rawType": "object",
         "type": "string"
        },
        {
         "name": "Discharges",
         "rawType": "object",
         "type": "string"
        },
        {
         "name": "Mean Charge",
         "rawType": "object",
         "type": "string"
        },
        {
         "name": "Median Charge",
         "rawType": "object",
         "type": "string"
        },
        {
         "name": "Mean Cost",
         "rawType": "object",
         "type": "string"
        },
        {
         "name": "Median Cost",
         "rawType": "object",
         "type": "string"
        }
       ],
       "conversionMethod": "pd.DataFrame",
       "ref": "4a97f5c3-efe2-438b-ad96-77f2e35aa21e",
       "rows": [
        [
         "0",
         "2016",
         "4",
         "Albany Memorial Hospital",
         "194",
         "1",
         "Heart Failure",
         "Minor",
         "M",
         "Medical",
         "2",
         "8,375.41",
         "8,375.41",
         "3,585.05",
         "3,585.05"
        ],
        [
         "1",
         "2016",
         "4",
         "Albany Memorial Hospital",
         "194",
         "2",
         "Heart Failure",
         "Moderate",
         "M",
         "Medical",
         "40",
         "14,029.82",
         "12,176.95",
         "6,182.67",
         "5,253.15"
        ],
        [
         "2",
         "2016",
         "4",
         "Albany Memorial Hospital",
         "194",
         "3",
         "Heart Failure",
         "Major",
         "M",
         "Medical",
         "70",
         "23,921.77",
         "20,229.81",
         "11,149.49",
         "9,068.10"
        ],
        [
         "3",
         "2016",
         "4",
         "Albany Memorial Hospital",
         "194",
         "4",
         "Heart Failure",
         "Extreme",
         "M",
         "Medical",
         "12",
         "51,260.45",
         "35,210.82",
         "26,081.70",
         "15,230.62"
        ],
        [
         "4",
         "2016",
         "4",
         "Albany Memorial Hospital",
         "196",
         "4",
         "Cardiac Arrest",
         "Extreme",
         "M",
         "Medical",
         "1",
         "25,357.84",
         "25,357.84",
         "7,791.75",
         "7,791.75"
        ]
       ],
       "shape": {
        "columns": 14,
        "rows": 5
       }
      },
      "text/html": [
       "<div>\n",
       "<style scoped>\n",
       "    .dataframe tbody tr th:only-of-type {\n",
       "        vertical-align: middle;\n",
       "    }\n",
       "\n",
       "    .dataframe tbody tr th {\n",
       "        vertical-align: top;\n",
       "    }\n",
       "\n",
       "    .dataframe thead th {\n",
       "        text-align: right;\n",
       "    }\n",
       "</style>\n",
       "<table border=\"1\" class=\"dataframe\">\n",
       "  <thead>\n",
       "    <tr style=\"text-align: right;\">\n",
       "      <th></th>\n",
       "      <th>Year</th>\n",
       "      <th>Facility Id</th>\n",
       "      <th>Facility Name</th>\n",
       "      <th>APR DRG Code</th>\n",
       "      <th>APR Severity of Illness Code</th>\n",
       "      <th>APR DRG Description</th>\n",
       "      <th>APR Severity of Illness Description</th>\n",
       "      <th>APR Medical Surgical Code</th>\n",
       "      <th>APR Medical Surgical Description</th>\n",
       "      <th>Discharges</th>\n",
       "      <th>Mean Charge</th>\n",
       "      <th>Median Charge</th>\n",
       "      <th>Mean Cost</th>\n",
       "      <th>Median Cost</th>\n",
       "    </tr>\n",
       "  </thead>\n",
       "  <tbody>\n",
       "    <tr>\n",
       "      <th>0</th>\n",
       "      <td>2016</td>\n",
       "      <td>4</td>\n",
       "      <td>Albany Memorial Hospital</td>\n",
       "      <td>194</td>\n",
       "      <td>1</td>\n",
       "      <td>Heart Failure</td>\n",
       "      <td>Minor</td>\n",
       "      <td>M</td>\n",
       "      <td>Medical</td>\n",
       "      <td>2</td>\n",
       "      <td>8,375.41</td>\n",
       "      <td>8,375.41</td>\n",
       "      <td>3,585.05</td>\n",
       "      <td>3,585.05</td>\n",
       "    </tr>\n",
       "    <tr>\n",
       "      <th>1</th>\n",
       "      <td>2016</td>\n",
       "      <td>4</td>\n",
       "      <td>Albany Memorial Hospital</td>\n",
       "      <td>194</td>\n",
       "      <td>2</td>\n",
       "      <td>Heart Failure</td>\n",
       "      <td>Moderate</td>\n",
       "      <td>M</td>\n",
       "      <td>Medical</td>\n",
       "      <td>40</td>\n",
       "      <td>14,029.82</td>\n",
       "      <td>12,176.95</td>\n",
       "      <td>6,182.67</td>\n",
       "      <td>5,253.15</td>\n",
       "    </tr>\n",
       "    <tr>\n",
       "      <th>2</th>\n",
       "      <td>2016</td>\n",
       "      <td>4</td>\n",
       "      <td>Albany Memorial Hospital</td>\n",
       "      <td>194</td>\n",
       "      <td>3</td>\n",
       "      <td>Heart Failure</td>\n",
       "      <td>Major</td>\n",
       "      <td>M</td>\n",
       "      <td>Medical</td>\n",
       "      <td>70</td>\n",
       "      <td>23,921.77</td>\n",
       "      <td>20,229.81</td>\n",
       "      <td>11,149.49</td>\n",
       "      <td>9,068.10</td>\n",
       "    </tr>\n",
       "    <tr>\n",
       "      <th>3</th>\n",
       "      <td>2016</td>\n",
       "      <td>4</td>\n",
       "      <td>Albany Memorial Hospital</td>\n",
       "      <td>194</td>\n",
       "      <td>4</td>\n",
       "      <td>Heart Failure</td>\n",
       "      <td>Extreme</td>\n",
       "      <td>M</td>\n",
       "      <td>Medical</td>\n",
       "      <td>12</td>\n",
       "      <td>51,260.45</td>\n",
       "      <td>35,210.82</td>\n",
       "      <td>26,081.70</td>\n",
       "      <td>15,230.62</td>\n",
       "    </tr>\n",
       "    <tr>\n",
       "      <th>4</th>\n",
       "      <td>2016</td>\n",
       "      <td>4</td>\n",
       "      <td>Albany Memorial Hospital</td>\n",
       "      <td>196</td>\n",
       "      <td>4</td>\n",
       "      <td>Cardiac Arrest</td>\n",
       "      <td>Extreme</td>\n",
       "      <td>M</td>\n",
       "      <td>Medical</td>\n",
       "      <td>1</td>\n",
       "      <td>25,357.84</td>\n",
       "      <td>25,357.84</td>\n",
       "      <td>7,791.75</td>\n",
       "      <td>7,791.75</td>\n",
       "    </tr>\n",
       "  </tbody>\n",
       "</table>\n",
       "</div>"
      ],
      "text/plain": [
       "   Year  Facility Id             Facility Name  APR DRG Code  \\\n",
       "0  2016            4  Albany Memorial Hospital           194   \n",
       "1  2016            4  Albany Memorial Hospital           194   \n",
       "2  2016            4  Albany Memorial Hospital           194   \n",
       "3  2016            4  Albany Memorial Hospital           194   \n",
       "4  2016            4  Albany Memorial Hospital           196   \n",
       "\n",
       "   APR Severity of Illness Code APR DRG Description  \\\n",
       "0                             1       Heart Failure   \n",
       "1                             2       Heart Failure   \n",
       "2                             3       Heart Failure   \n",
       "3                             4       Heart Failure   \n",
       "4                             4      Cardiac Arrest   \n",
       "\n",
       "  APR Severity of Illness Description APR Medical Surgical Code  \\\n",
       "0                               Minor                         M   \n",
       "1                            Moderate                         M   \n",
       "2                               Major                         M   \n",
       "3                             Extreme                         M   \n",
       "4                             Extreme                         M   \n",
       "\n",
       "  APR Medical Surgical Description Discharges Mean Charge Median Charge  \\\n",
       "0                          Medical          2    8,375.41      8,375.41   \n",
       "1                          Medical         40   14,029.82     12,176.95   \n",
       "2                          Medical         70   23,921.77     20,229.81   \n",
       "3                          Medical         12   51,260.45     35,210.82   \n",
       "4                          Medical          1   25,357.84     25,357.84   \n",
       "\n",
       "   Mean Cost Median Cost  \n",
       "0   3,585.05    3,585.05  \n",
       "1   6,182.67    5,253.15  \n",
       "2  11,149.49    9,068.10  \n",
       "3  26,081.70   15,230.62  \n",
       "4   7,791.75    7,791.75  "
      ]
     },
     "execution_count": 18,
     "metadata": {},
     "output_type": "execute_result"
    }
   ],
   "source": [
    "df.head()"
   ]
  },
  {
   "cell_type": "markdown",
   "id": "66da532a",
   "metadata": {},
   "source": [
    "Based on the dataset documentation, the following pairs of columns are duplicative: \n",
    "\n",
    "* `Facility Id` and `Facility Name`\n",
    "* `APR DRG Code` and `APR DRG Description`\n",
    "* `APR Severity of Illness Code` and `APR Severity of Illness Description`\n",
    "* `APR Medical Surgical Code` and `APR Medical Surgical Description`. \n",
    "\n",
    "To streamline the dataset and avoid redundancy, we decided to retain the coded columns and drop the corresponding descriptive columns."
   ]
  },
  {
   "cell_type": "code",
   "execution_count": null,
   "id": "da7ec445",
   "metadata": {},
   "outputs": [],
   "source": [
    "columns_to_drop = [\n",
    "    'Facility Name', \n",
    "    'APR Severity of Illness Description', \n",
    "    'APR DRG Description', \n",
    "    'APR Medical Surgical Description',\n",
    "]\n",
    "\n",
    "df = df.drop(columns=columns_to_drop)"
   ]
  },
  {
   "cell_type": "markdown",
   "id": "31f7976b",
   "metadata": {},
   "source": [
    "Based on observations from the Data Wrangler tool, the `APR Severity of Illness` column contains 351 missing values. As this represents less than 1% of the total observations, we have determined that it is appropriate to remove these records with missing values to maintain data quality without significantly impacting the dataset size.\n",
    "\n",
    "We also removed rows where 'APR Medical Surgical Code' is labeled as 'U' which stands for others. (less than 1%)"
   ]
  },
  {
   "cell_type": "code",
   "execution_count": 22,
   "id": "a2dca2b7",
   "metadata": {},
   "outputs": [],
   "source": [
    "df = df.dropna()\n",
    "df = df[df['APR Medical Surgical Code'] != 'U']"
   ]
  },
  {
   "cell_type": "markdown",
   "id": "ba806d44",
   "metadata": {},
   "source": [
    "Check the data type of each column"
   ]
  },
  {
   "cell_type": "code",
   "execution_count": 25,
   "id": "dd444afc",
   "metadata": {},
   "outputs": [
    {
     "name": "stdout",
     "output_type": "stream",
     "text": [
      "Year                             int64\n",
      "Facility Id                      int64\n",
      "APR DRG Code                     int64\n",
      "APR Severity of Illness Code     int64\n",
      "APR Medical Surgical Code       object\n",
      "Discharges                      object\n",
      "Mean Charge                     object\n",
      "Median Charge                   object\n",
      "Mean Cost                       object\n",
      "Median Cost                     object\n",
      "dtype: object\n"
     ]
    }
   ],
   "source": [
    "print(df.dtypes)"
   ]
  },
  {
   "cell_type": "markdown",
   "id": "60f98f23",
   "metadata": {},
   "source": [
    "Columns `Discharges`, `Mean Charge`, `Median Charge`, `Mean Cost`, and `Median Cost` are expected to be numeric. But currently they are stored as object data types. To ensure appropriate data handling and enable quantitative analysis, we have decided to convert these columns to integer."
   ]
  },
  {
   "cell_type": "code",
   "execution_count": 26,
   "id": "9a016215",
   "metadata": {},
   "outputs": [],
   "source": [
    "for col in ['Discharges', 'Mean Charge', 'Median Charge', 'Mean Cost', 'Median Cost']:\n",
    "    df[col] = df[col].replace('[\\\\$,]', '', regex=True).astype(float)"
   ]
  },
  {
   "cell_type": "code",
   "execution_count": 27,
   "id": "7e92aa02",
   "metadata": {},
   "outputs": [
    {
     "name": "stdout",
     "output_type": "stream",
     "text": [
      "<class 'pandas.core.frame.DataFrame'>\n",
      "Index: 1192267 entries, 0 to 1192826\n",
      "Data columns (total 10 columns):\n",
      " #   Column                        Non-Null Count    Dtype  \n",
      "---  ------                        --------------    -----  \n",
      " 0   Year                          1192267 non-null  int64  \n",
      " 1   Facility Id                   1192267 non-null  int64  \n",
      " 2   APR DRG Code                  1192267 non-null  int64  \n",
      " 3   APR Severity of Illness Code  1192267 non-null  int64  \n",
      " 4   APR Medical Surgical Code     1192267 non-null  object \n",
      " 5   Discharges                    1192267 non-null  float64\n",
      " 6   Mean Charge                   1192267 non-null  float64\n",
      " 7   Median Charge                 1192267 non-null  float64\n",
      " 8   Mean Cost                     1192267 non-null  float64\n",
      " 9   Median Cost                   1192267 non-null  float64\n",
      "dtypes: float64(5), int64(4), object(1)\n",
      "memory usage: 100.1+ MB\n"
     ]
    }
   ],
   "source": [
    "df.info()"
   ]
  },
  {
   "cell_type": "markdown",
   "id": "87ec780f",
   "metadata": {},
   "source": [
    "Now, all the columns are in expected data type of no NA values."
   ]
  },
  {
   "cell_type": "code",
   "execution_count": 28,
   "id": "6ab4e729",
   "metadata": {},
   "outputs": [
    {
     "data": {
      "application/vnd.microsoft.datawrangler.viewer.v0+json": {
       "columns": [
        {
         "name": "index",
         "rawType": "object",
         "type": "string"
        },
        {
         "name": "Year",
         "rawType": "float64",
         "type": "float"
        },
        {
         "name": "Facility Id",
         "rawType": "float64",
         "type": "float"
        },
        {
         "name": "APR DRG Code",
         "rawType": "float64",
         "type": "float"
        },
        {
         "name": "APR Severity of Illness Code",
         "rawType": "float64",
         "type": "float"
        },
        {
         "name": "Discharges",
         "rawType": "float64",
         "type": "float"
        },
        {
         "name": "Mean Charge",
         "rawType": "float64",
         "type": "float"
        },
        {
         "name": "Median Charge",
         "rawType": "float64",
         "type": "float"
        },
        {
         "name": "Mean Cost",
         "rawType": "float64",
         "type": "float"
        },
        {
         "name": "Median Cost",
         "rawType": "float64",
         "type": "float"
        }
       ],
       "conversionMethod": "pd.DataFrame",
       "ref": "4d2961e0-2602-4c9b-8f56-8ce9ab20a88b",
       "rows": [
        [
         "count",
         "1192267.0",
         "1192267.0",
         "1192267.0",
         "1192267.0",
         "1192267.0",
         "1192267.0",
         "1192267.0",
         "1192267.0",
         "1192267.0"
        ],
        [
         "mean",
         "2013.631725947292",
         "942.9070585699344",
         "377.40879601632855",
         "2.3421356122412176",
         "20.43550228262629",
         "53587.63876415267",
         "49118.29791337007",
         "19389.37457997243",
         "17627.92172099035"
        ],
        [
         "std",
         "3.4142680829548397",
         "662.2693021709803",
         "247.33504918947258",
         "1.0364094676975433",
         "81.22089998746351",
         "93716.65411578036",
         "88819.64503257578",
         "34933.25029950544",
         "33006.172606794455"
        ],
        [
         "min",
         "2009.0",
         "1.0",
         "1.0",
         "1.0",
         "1.0",
         "0.01",
         "0.01",
         "0.0",
         "0.0"
        ],
        [
         "25%",
         "2011.0",
         "513.0",
         "192.0",
         "1.0",
         "2.0",
         "14875.0",
         "13466.564999999999",
         "5855.305",
         "5219.98"
        ],
        [
         "50%",
         "2013.0",
         "895.0",
         "314.0",
         "2.0",
         "5.0",
         "28595.0",
         "25761.86",
         "10549.0",
         "9358.98"
        ],
        [
         "75%",
         "2016.0",
         "1306.0",
         "560.0",
         "3.0",
         "15.0",
         "57467.21",
         "51952.18",
         "20768.85",
         "18615.545"
        ],
        [
         "max",
         "2021.0",
         "10355.0",
         "952.0",
         "4.0",
         "6938.0",
         "7456978.85",
         "7456978.85",
         "7683085.8",
         "7683085.8"
        ]
       ],
       "shape": {
        "columns": 9,
        "rows": 8
       }
      },
      "text/html": [
       "<div>\n",
       "<style scoped>\n",
       "    .dataframe tbody tr th:only-of-type {\n",
       "        vertical-align: middle;\n",
       "    }\n",
       "\n",
       "    .dataframe tbody tr th {\n",
       "        vertical-align: top;\n",
       "    }\n",
       "\n",
       "    .dataframe thead th {\n",
       "        text-align: right;\n",
       "    }\n",
       "</style>\n",
       "<table border=\"1\" class=\"dataframe\">\n",
       "  <thead>\n",
       "    <tr style=\"text-align: right;\">\n",
       "      <th></th>\n",
       "      <th>Year</th>\n",
       "      <th>Facility Id</th>\n",
       "      <th>APR DRG Code</th>\n",
       "      <th>APR Severity of Illness Code</th>\n",
       "      <th>Discharges</th>\n",
       "      <th>Mean Charge</th>\n",
       "      <th>Median Charge</th>\n",
       "      <th>Mean Cost</th>\n",
       "      <th>Median Cost</th>\n",
       "    </tr>\n",
       "  </thead>\n",
       "  <tbody>\n",
       "    <tr>\n",
       "      <th>count</th>\n",
       "      <td>1.192267e+06</td>\n",
       "      <td>1.192267e+06</td>\n",
       "      <td>1.192267e+06</td>\n",
       "      <td>1.192267e+06</td>\n",
       "      <td>1.192267e+06</td>\n",
       "      <td>1.192267e+06</td>\n",
       "      <td>1.192267e+06</td>\n",
       "      <td>1.192267e+06</td>\n",
       "      <td>1.192267e+06</td>\n",
       "    </tr>\n",
       "    <tr>\n",
       "      <th>mean</th>\n",
       "      <td>2.013632e+03</td>\n",
       "      <td>9.429071e+02</td>\n",
       "      <td>3.774088e+02</td>\n",
       "      <td>2.342136e+00</td>\n",
       "      <td>2.043550e+01</td>\n",
       "      <td>5.358764e+04</td>\n",
       "      <td>4.911830e+04</td>\n",
       "      <td>1.938937e+04</td>\n",
       "      <td>1.762792e+04</td>\n",
       "    </tr>\n",
       "    <tr>\n",
       "      <th>std</th>\n",
       "      <td>3.414268e+00</td>\n",
       "      <td>6.622693e+02</td>\n",
       "      <td>2.473350e+02</td>\n",
       "      <td>1.036409e+00</td>\n",
       "      <td>8.122090e+01</td>\n",
       "      <td>9.371665e+04</td>\n",
       "      <td>8.881965e+04</td>\n",
       "      <td>3.493325e+04</td>\n",
       "      <td>3.300617e+04</td>\n",
       "    </tr>\n",
       "    <tr>\n",
       "      <th>min</th>\n",
       "      <td>2.009000e+03</td>\n",
       "      <td>1.000000e+00</td>\n",
       "      <td>1.000000e+00</td>\n",
       "      <td>1.000000e+00</td>\n",
       "      <td>1.000000e+00</td>\n",
       "      <td>1.000000e-02</td>\n",
       "      <td>1.000000e-02</td>\n",
       "      <td>0.000000e+00</td>\n",
       "      <td>0.000000e+00</td>\n",
       "    </tr>\n",
       "    <tr>\n",
       "      <th>25%</th>\n",
       "      <td>2.011000e+03</td>\n",
       "      <td>5.130000e+02</td>\n",
       "      <td>1.920000e+02</td>\n",
       "      <td>1.000000e+00</td>\n",
       "      <td>2.000000e+00</td>\n",
       "      <td>1.487500e+04</td>\n",
       "      <td>1.346656e+04</td>\n",
       "      <td>5.855305e+03</td>\n",
       "      <td>5.219980e+03</td>\n",
       "    </tr>\n",
       "    <tr>\n",
       "      <th>50%</th>\n",
       "      <td>2.013000e+03</td>\n",
       "      <td>8.950000e+02</td>\n",
       "      <td>3.140000e+02</td>\n",
       "      <td>2.000000e+00</td>\n",
       "      <td>5.000000e+00</td>\n",
       "      <td>2.859500e+04</td>\n",
       "      <td>2.576186e+04</td>\n",
       "      <td>1.054900e+04</td>\n",
       "      <td>9.358980e+03</td>\n",
       "    </tr>\n",
       "    <tr>\n",
       "      <th>75%</th>\n",
       "      <td>2.016000e+03</td>\n",
       "      <td>1.306000e+03</td>\n",
       "      <td>5.600000e+02</td>\n",
       "      <td>3.000000e+00</td>\n",
       "      <td>1.500000e+01</td>\n",
       "      <td>5.746721e+04</td>\n",
       "      <td>5.195218e+04</td>\n",
       "      <td>2.076885e+04</td>\n",
       "      <td>1.861554e+04</td>\n",
       "    </tr>\n",
       "    <tr>\n",
       "      <th>max</th>\n",
       "      <td>2.021000e+03</td>\n",
       "      <td>1.035500e+04</td>\n",
       "      <td>9.520000e+02</td>\n",
       "      <td>4.000000e+00</td>\n",
       "      <td>6.938000e+03</td>\n",
       "      <td>7.456979e+06</td>\n",
       "      <td>7.456979e+06</td>\n",
       "      <td>7.683086e+06</td>\n",
       "      <td>7.683086e+06</td>\n",
       "    </tr>\n",
       "  </tbody>\n",
       "</table>\n",
       "</div>"
      ],
      "text/plain": [
       "               Year   Facility Id  APR DRG Code  APR Severity of Illness Code  \\\n",
       "count  1.192267e+06  1.192267e+06  1.192267e+06                  1.192267e+06   \n",
       "mean   2.013632e+03  9.429071e+02  3.774088e+02                  2.342136e+00   \n",
       "std    3.414268e+00  6.622693e+02  2.473350e+02                  1.036409e+00   \n",
       "min    2.009000e+03  1.000000e+00  1.000000e+00                  1.000000e+00   \n",
       "25%    2.011000e+03  5.130000e+02  1.920000e+02                  1.000000e+00   \n",
       "50%    2.013000e+03  8.950000e+02  3.140000e+02                  2.000000e+00   \n",
       "75%    2.016000e+03  1.306000e+03  5.600000e+02                  3.000000e+00   \n",
       "max    2.021000e+03  1.035500e+04  9.520000e+02                  4.000000e+00   \n",
       "\n",
       "         Discharges   Mean Charge  Median Charge     Mean Cost   Median Cost  \n",
       "count  1.192267e+06  1.192267e+06   1.192267e+06  1.192267e+06  1.192267e+06  \n",
       "mean   2.043550e+01  5.358764e+04   4.911830e+04  1.938937e+04  1.762792e+04  \n",
       "std    8.122090e+01  9.371665e+04   8.881965e+04  3.493325e+04  3.300617e+04  \n",
       "min    1.000000e+00  1.000000e-02   1.000000e-02  0.000000e+00  0.000000e+00  \n",
       "25%    2.000000e+00  1.487500e+04   1.346656e+04  5.855305e+03  5.219980e+03  \n",
       "50%    5.000000e+00  2.859500e+04   2.576186e+04  1.054900e+04  9.358980e+03  \n",
       "75%    1.500000e+01  5.746721e+04   5.195218e+04  2.076885e+04  1.861554e+04  \n",
       "max    6.938000e+03  7.456979e+06   7.456979e+06  7.683086e+06  7.683086e+06  "
      ]
     },
     "execution_count": 28,
     "metadata": {},
     "output_type": "execute_result"
    }
   ],
   "source": [
    "df.describe()"
   ]
  },
  {
   "cell_type": "markdown",
   "id": "123b78a9",
   "metadata": {},
   "source": [
    "There's no obvious incorrect values from statistic description table."
   ]
  },
  {
   "cell_type": "markdown",
   "id": "07f53070",
   "metadata": {},
   "source": [
    "### Export Data"
   ]
  },
  {
   "cell_type": "code",
   "execution_count": 32,
   "id": "c276b2b1",
   "metadata": {},
   "outputs": [],
   "source": [
    "df.to_csv('cleaned_hospital.csv', index=False)\n"
   ]
  }
 ],
 "metadata": {
  "kernelspec": {
   "display_name": "datathon",
   "language": "python",
   "name": "python3"
  },
  "language_info": {
   "codemirror_mode": {
    "name": "ipython",
    "version": 3
   },
   "file_extension": ".py",
   "mimetype": "text/x-python",
   "name": "python",
   "nbconvert_exporter": "python",
   "pygments_lexer": "ipython3",
   "version": "3.10.16"
  }
 },
 "nbformat": 4,
 "nbformat_minor": 5
}
